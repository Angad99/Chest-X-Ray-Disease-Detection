{
  "cells": [
    {
      "cell_type": "code",
      "source": [
        "import os\r\n",
        "import zipfile\r\n",
        "# name of the zip file you want to unzip\r\n",
        "local_zip = 'nih-chest-xrays-tfrecords.zip'\r\n",
        "# opening a file with mode parameter 'r' : read existing file\r\n",
        "zip_ref = zipfile.ZipFile(local_zip, 'r')\r\n",
        "# extract all contents of the zip file\r\n",
        "zip_ref.extractall('')\r\n",
        "# close the file\r\n",
        "zip_ref.close()"
      ],
      "outputs": [],
      "execution_count": 1,
      "metadata": {
        "gather": {
          "logged": 1617047306152
        }
      }
    }
  ],
  "metadata": {
    "kernelspec": {
      "name": "python3-azureml",
      "language": "python",
      "display_name": "Python 3.6 - AzureML"
    },
    "language_info": {
      "name": "python",
      "version": "3.6.9",
      "mimetype": "text/x-python",
      "codemirror_mode": {
        "name": "ipython",
        "version": 3
      },
      "pygments_lexer": "ipython3",
      "nbconvert_exporter": "python",
      "file_extension": ".py"
    },
    "kernel_info": {
      "name": "python3-azureml"
    },
    "nteract": {
      "version": "nteract-front-end@1.0.0"
    },
    "microsoft": {
      "host": {
        "AzureML": {
          "notebookHasBeenCompleted": true
        }
      }
    }
  },
  "nbformat": 4,
  "nbformat_minor": 2
}