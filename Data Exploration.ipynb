{
  "cells": [
    {
      "cell_type": "markdown",
      "source": [
        "# Data Exploration"
      ],
      "metadata": {
        "nteract": {
          "transient": {
            "deleting": false
          }
        }
      }
    },
    {
      "cell_type": "markdown",
      "source": [
        "This notebook looks at the csv file describing the data to look at the distribution of the different diseases and see how much data there is."
      ],
      "metadata": {
        "nteract": {
          "transient": {
            "deleting": false
          }
        }
      }
    },
    {
      "cell_type": "code",
      "source": [
        "# Perform necessary imports\r\n",
        "import pandas as pd \r\n",
        "import matplotlib.pyplot as plt \r\n",
        "import seaborn as sns"
      ],
      "outputs": [],
      "execution_count": 1,
      "metadata": {
        "gather": {
          "logged": 1617235378512
        }
      }
    },
    {
      "cell_type": "code",
      "source": [
        "#Read in the data using pandas\r\n",
        "data = pd.read_csv('preprocessed_data.csv')"
      ],
      "outputs": [],
      "execution_count": 2,
      "metadata": {
        "collapsed": true,
        "jupyter": {
          "source_hidden": false,
          "outputs_hidden": false
        },
        "nteract": {
          "transient": {
            "deleting": false
          }
        },
        "gather": {
          "logged": 1617235378892
        }
      }
    },
    {
      "cell_type": "markdown",
      "source": [
        "Looking at the data:"
      ],
      "metadata": {
        "nteract": {
          "transient": {
            "deleting": false
          }
        }
      }
    },
    {
      "cell_type": "code",
      "source": [
        "data.head()"
      ],
      "outputs": [
        {
          "output_type": "execute_result",
          "execution_count": 3,
          "data": {
            "text/plain": "                                         Unnamed: 0  No Finding  Atelectasis  \\\n0  ../input/data/images_001/images/00000001_000.png       False        False   \n1  ../input/data/images_001/images/00000001_001.png       False        False   \n2  ../input/data/images_001/images/00000001_002.png       False        False   \n3  ../input/data/images_001/images/00000002_000.png        True        False   \n4  ../input/data/images_001/images/00000003_000.png       False        False   \n\n   Consolidation  Infiltration  Pneumothorax  Edema  Emphysema  Fibrosis  \\\n0          False         False         False  False      False     False   \n1          False         False         False  False       True     False   \n2          False         False         False  False      False     False   \n3          False         False         False  False      False     False   \n4          False         False         False  False      False     False   \n\n   Effusion  Pneumonia  Pleural_Thickening  Cardiomegaly  Nodule   Mass  \\\n0     False      False               False          True   False  False   \n1     False      False               False          True   False  False   \n2      True      False               False          True   False  False   \n3     False      False               False         False   False  False   \n4     False      False               False         False   False  False   \n\n   Hernia  \n0   False  \n1   False  \n2   False  \n3   False  \n4    True  ",
            "text/html": "<div>\n<style scoped>\n    .dataframe tbody tr th:only-of-type {\n        vertical-align: middle;\n    }\n\n    .dataframe tbody tr th {\n        vertical-align: top;\n    }\n\n    .dataframe thead th {\n        text-align: right;\n    }\n</style>\n<table border=\"1\" class=\"dataframe\">\n  <thead>\n    <tr style=\"text-align: right;\">\n      <th></th>\n      <th>Unnamed: 0</th>\n      <th>No Finding</th>\n      <th>Atelectasis</th>\n      <th>Consolidation</th>\n      <th>Infiltration</th>\n      <th>Pneumothorax</th>\n      <th>Edema</th>\n      <th>Emphysema</th>\n      <th>Fibrosis</th>\n      <th>Effusion</th>\n      <th>Pneumonia</th>\n      <th>Pleural_Thickening</th>\n      <th>Cardiomegaly</th>\n      <th>Nodule</th>\n      <th>Mass</th>\n      <th>Hernia</th>\n    </tr>\n  </thead>\n  <tbody>\n    <tr>\n      <th>0</th>\n      <td>../input/data/images_001/images/00000001_000.png</td>\n      <td>False</td>\n      <td>False</td>\n      <td>False</td>\n      <td>False</td>\n      <td>False</td>\n      <td>False</td>\n      <td>False</td>\n      <td>False</td>\n      <td>False</td>\n      <td>False</td>\n      <td>False</td>\n      <td>True</td>\n      <td>False</td>\n      <td>False</td>\n      <td>False</td>\n    </tr>\n    <tr>\n      <th>1</th>\n      <td>../input/data/images_001/images/00000001_001.png</td>\n      <td>False</td>\n      <td>False</td>\n      <td>False</td>\n      <td>False</td>\n      <td>False</td>\n      <td>False</td>\n      <td>True</td>\n      <td>False</td>\n      <td>False</td>\n      <td>False</td>\n      <td>False</td>\n      <td>True</td>\n      <td>False</td>\n      <td>False</td>\n      <td>False</td>\n    </tr>\n    <tr>\n      <th>2</th>\n      <td>../input/data/images_001/images/00000001_002.png</td>\n      <td>False</td>\n      <td>False</td>\n      <td>False</td>\n      <td>False</td>\n      <td>False</td>\n      <td>False</td>\n      <td>False</td>\n      <td>False</td>\n      <td>True</td>\n      <td>False</td>\n      <td>False</td>\n      <td>True</td>\n      <td>False</td>\n      <td>False</td>\n      <td>False</td>\n    </tr>\n    <tr>\n      <th>3</th>\n      <td>../input/data/images_001/images/00000002_000.png</td>\n      <td>True</td>\n      <td>False</td>\n      <td>False</td>\n      <td>False</td>\n      <td>False</td>\n      <td>False</td>\n      <td>False</td>\n      <td>False</td>\n      <td>False</td>\n      <td>False</td>\n      <td>False</td>\n      <td>False</td>\n      <td>False</td>\n      <td>False</td>\n      <td>False</td>\n    </tr>\n    <tr>\n      <th>4</th>\n      <td>../input/data/images_001/images/00000003_000.png</td>\n      <td>False</td>\n      <td>False</td>\n      <td>False</td>\n      <td>False</td>\n      <td>False</td>\n      <td>False</td>\n      <td>False</td>\n      <td>False</td>\n      <td>False</td>\n      <td>False</td>\n      <td>False</td>\n      <td>False</td>\n      <td>False</td>\n      <td>False</td>\n      <td>True</td>\n    </tr>\n  </tbody>\n</table>\n</div>"
          },
          "metadata": {}
        }
      ],
      "execution_count": 3,
      "metadata": {
        "collapsed": true,
        "jupyter": {
          "source_hidden": false,
          "outputs_hidden": false
        },
        "nteract": {
          "transient": {
            "deleting": false
          }
        },
        "gather": {
          "logged": 1617235379085
        }
      }
    },
    {
      "cell_type": "code",
      "source": [
        "data.info()"
      ],
      "outputs": [
        {
          "output_type": "stream",
          "name": "stdout",
          "text": [
            "<class 'pandas.core.frame.DataFrame'>\n",
            "RangeIndex: 112120 entries, 0 to 112119\n",
            "Data columns (total 16 columns):\n",
            "Unnamed: 0            112120 non-null object\n",
            "No Finding            112120 non-null bool\n",
            "Atelectasis           112120 non-null bool\n",
            "Consolidation         112120 non-null bool\n",
            "Infiltration          112120 non-null bool\n",
            "Pneumothorax          112120 non-null bool\n",
            "Edema                 112120 non-null bool\n",
            "Emphysema             112120 non-null bool\n",
            "Fibrosis              112120 non-null bool\n",
            "Effusion              112120 non-null bool\n",
            "Pneumonia             112120 non-null bool\n",
            "Pleural_Thickening    112120 non-null bool\n",
            "Cardiomegaly          112120 non-null bool\n",
            "Nodule                112120 non-null bool\n",
            "Mass                  112120 non-null bool\n",
            "Hernia                112120 non-null bool\n",
            "dtypes: bool(15), object(1)\n",
            "memory usage: 2.5+ MB\n"
          ]
        }
      ],
      "execution_count": 4,
      "metadata": {
        "collapsed": true,
        "jupyter": {
          "source_hidden": false,
          "outputs_hidden": false
        },
        "nteract": {
          "transient": {
            "deleting": false
          }
        },
        "gather": {
          "logged": 1617235379262
        }
      }
    },
    {
      "cell_type": "code",
      "source": [
        "data.describe()"
      ],
      "outputs": [
        {
          "output_type": "execute_result",
          "execution_count": 5,
          "data": {
            "text/plain": "                                              Unnamed: 0 No Finding  \\\ncount                                             112120     112120   \nunique                                            112120          2   \ntop     ../input/data/images_012/images/00029278_000.png       True   \nfreq                                                   1      60361   \n\n       Atelectasis Consolidation Infiltration Pneumothorax   Edema Emphysema  \\\ncount       112120        112120       112120       112120  112120    112120   \nunique           2             2            2            2       2         2   \ntop          False         False        False        False   False     False   \nfreq        100561        107453        92226       106818  109817    109604   \n\n       Fibrosis Effusion Pneumonia Pleural_Thickening Cardiomegaly  Nodule  \\\ncount    112120   112120    112120             112120       112120  112120   \nunique        2        2         2                  2            2       2   \ntop       False    False     False              False        False   False   \nfreq     110434    98803    110689             108735       109344  105789   \n\n          Mass  Hernia  \ncount   112120  112120  \nunique       2       2  \ntop      False   False  \nfreq    106338  111893  ",
            "text/html": "<div>\n<style scoped>\n    .dataframe tbody tr th:only-of-type {\n        vertical-align: middle;\n    }\n\n    .dataframe tbody tr th {\n        vertical-align: top;\n    }\n\n    .dataframe thead th {\n        text-align: right;\n    }\n</style>\n<table border=\"1\" class=\"dataframe\">\n  <thead>\n    <tr style=\"text-align: right;\">\n      <th></th>\n      <th>Unnamed: 0</th>\n      <th>No Finding</th>\n      <th>Atelectasis</th>\n      <th>Consolidation</th>\n      <th>Infiltration</th>\n      <th>Pneumothorax</th>\n      <th>Edema</th>\n      <th>Emphysema</th>\n      <th>Fibrosis</th>\n      <th>Effusion</th>\n      <th>Pneumonia</th>\n      <th>Pleural_Thickening</th>\n      <th>Cardiomegaly</th>\n      <th>Nodule</th>\n      <th>Mass</th>\n      <th>Hernia</th>\n    </tr>\n  </thead>\n  <tbody>\n    <tr>\n      <th>count</th>\n      <td>112120</td>\n      <td>112120</td>\n      <td>112120</td>\n      <td>112120</td>\n      <td>112120</td>\n      <td>112120</td>\n      <td>112120</td>\n      <td>112120</td>\n      <td>112120</td>\n      <td>112120</td>\n      <td>112120</td>\n      <td>112120</td>\n      <td>112120</td>\n      <td>112120</td>\n      <td>112120</td>\n      <td>112120</td>\n    </tr>\n    <tr>\n      <th>unique</th>\n      <td>112120</td>\n      <td>2</td>\n      <td>2</td>\n      <td>2</td>\n      <td>2</td>\n      <td>2</td>\n      <td>2</td>\n      <td>2</td>\n      <td>2</td>\n      <td>2</td>\n      <td>2</td>\n      <td>2</td>\n      <td>2</td>\n      <td>2</td>\n      <td>2</td>\n      <td>2</td>\n    </tr>\n    <tr>\n      <th>top</th>\n      <td>../input/data/images_012/images/00029278_000.png</td>\n      <td>True</td>\n      <td>False</td>\n      <td>False</td>\n      <td>False</td>\n      <td>False</td>\n      <td>False</td>\n      <td>False</td>\n      <td>False</td>\n      <td>False</td>\n      <td>False</td>\n      <td>False</td>\n      <td>False</td>\n      <td>False</td>\n      <td>False</td>\n      <td>False</td>\n    </tr>\n    <tr>\n      <th>freq</th>\n      <td>1</td>\n      <td>60361</td>\n      <td>100561</td>\n      <td>107453</td>\n      <td>92226</td>\n      <td>106818</td>\n      <td>109817</td>\n      <td>109604</td>\n      <td>110434</td>\n      <td>98803</td>\n      <td>110689</td>\n      <td>108735</td>\n      <td>109344</td>\n      <td>105789</td>\n      <td>106338</td>\n      <td>111893</td>\n    </tr>\n  </tbody>\n</table>\n</div>"
          },
          "metadata": {}
        }
      ],
      "execution_count": 5,
      "metadata": {
        "collapsed": true,
        "jupyter": {
          "source_hidden": false,
          "outputs_hidden": false
        },
        "nteract": {
          "transient": {
            "deleting": false
          }
        },
        "gather": {
          "logged": 1617235379447
        }
      }
    },
    {
      "cell_type": "markdown",
      "source": [
        "Checking for any correlations between diseases:"
      ],
      "metadata": {
        "nteract": {
          "transient": {
            "deleting": false
          }
        }
      }
    },
    {
      "cell_type": "code",
      "source": [
        "sns.heatmap(data.corr())"
      ],
      "outputs": [
        {
          "output_type": "execute_result",
          "execution_count": 6,
          "data": {
            "text/plain": "<matplotlib.axes._subplots.AxesSubplot at 0x7f5b149895c0>"
          },
          "metadata": {}
        },
        {
          "output_type": "display_data",
          "data": {
            "text/plain": "<Figure size 432x288 with 2 Axes>",
            "image/png": "[encoded data removed]"
          },
          "metadata": {
            "needs_background": "light"
          }
        }
      ],
      "execution_count": 6,
      "metadata": {
        "collapsed": true,
        "jupyter": {
          "source_hidden": false,
          "outputs_hidden": false
        },
        "nteract": {
          "transient": {
            "deleting": false
          }
        },
        "gather": {
          "logged": 1617235379785
        }
      }
    },
    {
      "cell_type": "code",
      "source": [
        "data.corr()"
      ],
      "outputs": [
        {
          "output_type": "execute_result",
          "execution_count": 7,
          "data": {
            "text/plain": "                    No Finding  Atelectasis  Consolidation  Infiltration  \\\nNo Finding            1.000000    -0.366126      -0.225058     -0.501556   \nAtelectasis          -0.366126     1.000000       0.108943      0.093131   \nConsolidation        -0.225058     0.108943       1.000000      0.045926   \nInfiltration         -0.501556     0.093131       0.045926      1.000000   \nPneumothorax         -0.240593     0.031422       0.000485      0.000576   \nEdema                -0.156386    -0.003397       0.020822      0.094208   \nEmphysema            -0.163617     0.032599      -0.000521      0.000406   \nFibrosis             -0.133433     0.011130       0.003236      0.008794   \nEffusion             -0.396464     0.172445       0.101130      0.118136   \nPneumonia            -0.122787     0.029911       0.025235      0.073020   \nPleural_Thickening   -0.190537     0.025202       0.028733      0.020381   \nCardiomegaly         -0.172067     0.015819       0.015360      0.014189   \nNodule               -0.264181    -0.007967       0.031819      0.042749   \nMass                 -0.251814     0.018953       0.074573      0.014047   \nHernia               -0.048640     0.010830      -0.005413     -0.003780   \n\n                    Pneumothorax     Edema  Emphysema  Fibrosis  Effusion  \\\nNo Finding             -0.240593 -0.156386  -0.163617 -0.133433 -0.396464   \nAtelectasis             0.031422 -0.003397   0.032599  0.011130  0.172445   \nConsolidation           0.000485  0.020822  -0.000521  0.003236  0.101130   \nInfiltration            0.000576  0.094208   0.000406  0.008794  0.118136   \nPneumothorax            1.000000 -0.022487   0.178175  0.000094  0.047571   \nEdema                  -0.022487  1.000000  -0.009204 -0.013243  0.062092   \nEmphysema               0.178175 -0.009204   1.000000 -0.000908  0.011198   \nFibrosis                0.000094 -0.013243  -0.000908  1.000000 -0.002776   \nEffusion                0.047571  0.062092   0.011198 -0.002776  1.000000   \nPneumonia              -0.009984  0.173996  -0.004888 -0.006867  0.024322   \nPleural_Thickening      0.031661 -0.002032   0.026408  0.053578  0.072009   \nCardiomegaly           -0.022248  0.028318  -0.007090  0.004837  0.130094   \nNodule                  0.007576  0.000261  -0.007062  0.022478  0.019114   \nMass                    0.029940  0.002910   0.023213  0.009959  0.070710   \nHernia                 -0.001621 -0.002326  -0.001466  0.007478 -0.003656   \n\n                    Pneumonia  Pleural_Thickening  Cardiomegaly    Nodule  \\\nNo Finding          -0.122787           -0.190537     -0.172067 -0.264181   \nAtelectasis          0.029911            0.025202      0.015819 -0.007967   \nConsolidation        0.025235            0.028733      0.015360  0.031819   \nInfiltration         0.073020            0.020381      0.014189  0.042749   \nPneumothorax        -0.009984            0.031661     -0.022248  0.007576   \nEdema                0.173996           -0.002032      0.028318  0.000261   \nEmphysema           -0.004888            0.026408     -0.007090 -0.007062   \nFibrosis            -0.006867            0.053578      0.004837  0.022478   \nEffusion             0.024322            0.072009      0.130094  0.019114   \nPneumonia            1.000000            0.002227      0.002848 -0.003719   \nPleural_Thickening   0.002227            1.000000      0.009121  0.049649   \nCardiomegaly         0.002848            0.009121      1.000000 -0.012123   \nNodule              -0.003719            0.049649     -0.012123  1.000000   \nMass                -0.001005            0.065388     -0.010682  0.101253   \nHernia               0.000182            0.001330      0.001762 -0.002422   \n\n                        Mass    Hernia  \nNo Finding         -0.251814 -0.048640  \nAtelectasis         0.018953  0.010830  \nConsolidation       0.074573 -0.005413  \nInfiltration        0.014047 -0.003780  \nPneumothorax        0.029940 -0.001621  \nEdema               0.002910 -0.002326  \nEmphysema           0.023213 -0.001466  \nFibrosis            0.009959  0.007478  \nEffusion            0.070710 -0.003656  \nPneumonia          -0.001005  0.000182  \nPleural_Thickening  0.065388  0.001330  \nCardiomegaly       -0.010682  0.001762  \nNodule              0.101253 -0.002422  \nMass                1.000000  0.011927  \nHernia              0.011927  1.000000  ",
            "text/html": "<div>\n<style scoped>\n    .dataframe tbody tr th:only-of-type {\n        vertical-align: middle;\n    }\n\n    .dataframe tbody tr th {\n        vertical-align: top;\n    }\n\n    .dataframe thead th {\n        text-align: right;\n    }\n</style>\n<table border=\"1\" class=\"dataframe\">\n  <thead>\n    <tr style=\"text-align: right;\">\n      <th></th>\n      <th>No Finding</th>\n      <th>Atelectasis</th>\n      <th>Consolidation</th>\n      <th>Infiltration</th>\n      <th>Pneumothorax</th>\n      <th>Edema</th>\n      <th>Emphysema</th>\n      <th>Fibrosis</th>\n      <th>Effusion</th>\n      <th>Pneumonia</th>\n      <th>Pleural_Thickening</th>\n      <th>Cardiomegaly</th>\n      <th>Nodule</th>\n      <th>Mass</th>\n      <th>Hernia</th>\n    </tr>\n  </thead>\n  <tbody>\n    <tr>\n      <th>No Finding</th>\n      <td>1.000000</td>\n      <td>-0.366126</td>\n      <td>-0.225058</td>\n      <td>-0.501556</td>\n      <td>-0.240593</td>\n      <td>-0.156386</td>\n      <td>-0.163617</td>\n      <td>-0.133433</td>\n      <td>-0.396464</td>\n      <td>-0.122787</td>\n      <td>-0.190537</td>\n      <td>-0.172067</td>\n      <td>-0.264181</td>\n      <td>-0.251814</td>\n      <td>-0.048640</td>\n    </tr>\n    <tr>\n      <th>Atelectasis</th>\n      <td>-0.366126</td>\n      <td>1.000000</td>\n      <td>0.108943</td>\n      <td>0.093131</td>\n      <td>0.031422</td>\n      <td>-0.003397</td>\n      <td>0.032599</td>\n      <td>0.011130</td>\n      <td>0.172445</td>\n      <td>0.029911</td>\n      <td>0.025202</td>\n      <td>0.015819</td>\n      <td>-0.007967</td>\n      <td>0.018953</td>\n      <td>0.010830</td>\n    </tr>\n    <tr>\n      <th>Consolidation</th>\n      <td>-0.225058</td>\n      <td>0.108943</td>\n      <td>1.000000</td>\n      <td>0.045926</td>\n      <td>0.000485</td>\n      <td>0.020822</td>\n      <td>-0.000521</td>\n      <td>0.003236</td>\n      <td>0.101130</td>\n      <td>0.025235</td>\n      <td>0.028733</td>\n      <td>0.015360</td>\n      <td>0.031819</td>\n      <td>0.074573</td>\n      <td>-0.005413</td>\n    </tr>\n    <tr>\n      <th>Infiltration</th>\n      <td>-0.501556</td>\n      <td>0.093131</td>\n      <td>0.045926</td>\n      <td>1.000000</td>\n      <td>0.000576</td>\n      <td>0.094208</td>\n      <td>0.000406</td>\n      <td>0.008794</td>\n      <td>0.118136</td>\n      <td>0.073020</td>\n      <td>0.020381</td>\n      <td>0.014189</td>\n      <td>0.042749</td>\n      <td>0.014047</td>\n      <td>-0.003780</td>\n    </tr>\n    <tr>\n      <th>Pneumothorax</th>\n      <td>-0.240593</td>\n      <td>0.031422</td>\n      <td>0.000485</td>\n      <td>0.000576</td>\n      <td>1.000000</td>\n      <td>-0.022487</td>\n      <td>0.178175</td>\n      <td>0.000094</td>\n      <td>0.047571</td>\n      <td>-0.009984</td>\n      <td>0.031661</td>\n      <td>-0.022248</td>\n      <td>0.007576</td>\n      <td>0.029940</td>\n      <td>-0.001621</td>\n    </tr>\n    <tr>\n      <th>Edema</th>\n      <td>-0.156386</td>\n      <td>-0.003397</td>\n      <td>0.020822</td>\n      <td>0.094208</td>\n      <td>-0.022487</td>\n      <td>1.000000</td>\n      <td>-0.009204</td>\n      <td>-0.013243</td>\n      <td>0.062092</td>\n      <td>0.173996</td>\n      <td>-0.002032</td>\n      <td>0.028318</td>\n      <td>0.000261</td>\n      <td>0.002910</td>\n      <td>-0.002326</td>\n    </tr>\n    <tr>\n      <th>Emphysema</th>\n      <td>-0.163617</td>\n      <td>0.032599</td>\n      <td>-0.000521</td>\n      <td>0.000406</td>\n      <td>0.178175</td>\n      <td>-0.009204</td>\n      <td>1.000000</td>\n      <td>-0.000908</td>\n      <td>0.011198</td>\n      <td>-0.004888</td>\n      <td>0.026408</td>\n      <td>-0.007090</td>\n      <td>-0.007062</td>\n      <td>0.023213</td>\n      <td>-0.001466</td>\n    </tr>\n    <tr>\n      <th>Fibrosis</th>\n      <td>-0.133433</td>\n      <td>0.011130</td>\n      <td>0.003236</td>\n      <td>0.008794</td>\n      <td>0.000094</td>\n      <td>-0.013243</td>\n      <td>-0.000908</td>\n      <td>1.000000</td>\n      <td>-0.002776</td>\n      <td>-0.006867</td>\n      <td>0.053578</td>\n      <td>0.004837</td>\n      <td>0.022478</td>\n      <td>0.009959</td>\n      <td>0.007478</td>\n    </tr>\n    <tr>\n      <th>Effusion</th>\n      <td>-0.396464</td>\n      <td>0.172445</td>\n      <td>0.101130</td>\n      <td>0.118136</td>\n      <td>0.047571</td>\n      <td>0.062092</td>\n      <td>0.011198</td>\n      <td>-0.002776</td>\n      <td>1.000000</td>\n      <td>0.024322</td>\n      <td>0.072009</td>\n      <td>0.130094</td>\n      <td>0.019114</td>\n      <td>0.070710</td>\n      <td>-0.003656</td>\n    </tr>\n    <tr>\n      <th>Pneumonia</th>\n      <td>-0.122787</td>\n      <td>0.029911</td>\n      <td>0.025235</td>\n      <td>0.073020</td>\n      <td>-0.009984</td>\n      <td>0.173996</td>\n      <td>-0.004888</td>\n      <td>-0.006867</td>\n      <td>0.024322</td>\n      <td>1.000000</td>\n      <td>0.002227</td>\n      <td>0.002848</td>\n      <td>-0.003719</td>\n      <td>-0.001005</td>\n      <td>0.000182</td>\n    </tr>\n    <tr>\n      <th>Pleural_Thickening</th>\n      <td>-0.190537</td>\n      <td>0.025202</td>\n      <td>0.028733</td>\n      <td>0.020381</td>\n      <td>0.031661</td>\n      <td>-0.002032</td>\n      <td>0.026408</td>\n      <td>0.053578</td>\n      <td>0.072009</td>\n      <td>0.002227</td>\n      <td>1.000000</td>\n      <td>0.009121</td>\n      <td>0.049649</td>\n      <td>0.065388</td>\n      <td>0.001330</td>\n    </tr>\n    <tr>\n      <th>Cardiomegaly</th>\n      <td>-0.172067</td>\n      <td>0.015819</td>\n      <td>0.015360</td>\n      <td>0.014189</td>\n      <td>-0.022248</td>\n      <td>0.028318</td>\n      <td>-0.007090</td>\n      <td>0.004837</td>\n      <td>0.130094</td>\n      <td>0.002848</td>\n      <td>0.009121</td>\n      <td>1.000000</td>\n      <td>-0.012123</td>\n      <td>-0.010682</td>\n      <td>0.001762</td>\n    </tr>\n    <tr>\n      <th>Nodule</th>\n      <td>-0.264181</td>\n      <td>-0.007967</td>\n      <td>0.031819</td>\n      <td>0.042749</td>\n      <td>0.007576</td>\n      <td>0.000261</td>\n      <td>-0.007062</td>\n      <td>0.022478</td>\n      <td>0.019114</td>\n      <td>-0.003719</td>\n      <td>0.049649</td>\n      <td>-0.012123</td>\n      <td>1.000000</td>\n      <td>0.101253</td>\n      <td>-0.002422</td>\n    </tr>\n    <tr>\n      <th>Mass</th>\n      <td>-0.251814</td>\n      <td>0.018953</td>\n      <td>0.074573</td>\n      <td>0.014047</td>\n      <td>0.029940</td>\n      <td>0.002910</td>\n      <td>0.023213</td>\n      <td>0.009959</td>\n      <td>0.070710</td>\n      <td>-0.001005</td>\n      <td>0.065388</td>\n      <td>-0.010682</td>\n      <td>0.101253</td>\n      <td>1.000000</td>\n      <td>0.011927</td>\n    </tr>\n    <tr>\n      <th>Hernia</th>\n      <td>-0.048640</td>\n      <td>0.010830</td>\n      <td>-0.005413</td>\n      <td>-0.003780</td>\n      <td>-0.001621</td>\n      <td>-0.002326</td>\n      <td>-0.001466</td>\n      <td>0.007478</td>\n      <td>-0.003656</td>\n      <td>0.000182</td>\n      <td>0.001330</td>\n      <td>0.001762</td>\n      <td>-0.002422</td>\n      <td>0.011927</td>\n      <td>1.000000</td>\n    </tr>\n  </tbody>\n</table>\n</div>"
          },
          "metadata": {}
        }
      ],
      "execution_count": 7,
      "metadata": {
        "collapsed": true,
        "jupyter": {
          "source_hidden": false,
          "outputs_hidden": false
        },
        "nteract": {
          "transient": {
            "deleting": false
          }
        },
        "gather": {
          "logged": 1617235379969
        }
      }
    },
    {
      "cell_type": "markdown",
      "source": [
        "There does not seem to be any significant correlations."
      ],
      "metadata": {
        "nteract": {
          "transient": {
            "deleting": false
          }
        }
      }
    },
    {
      "cell_type": "code",
      "source": [
        "data.replace({False: 0, True: 1}, inplace=True)"
      ],
      "outputs": [],
      "execution_count": 8,
      "metadata": {
        "collapsed": true,
        "jupyter": {
          "source_hidden": false,
          "outputs_hidden": false
        },
        "nteract": {
          "transient": {
            "deleting": false
          }
        },
        "gather": {
          "logged": 1617235380227
        }
      }
    },
    {
      "cell_type": "code",
      "source": [
        "data.describe()"
      ],
      "outputs": [
        {
          "output_type": "execute_result",
          "execution_count": 9,
          "data": {
            "text/plain": "          No Finding    Atelectasis  Consolidation   Infiltration  \\\ncount  112120.000000  112120.000000  112120.000000  112120.000000   \nmean        0.538361       0.103095       0.041625       0.177435   \nstd         0.498529       0.304084       0.199732       0.382038   \nmin         0.000000       0.000000       0.000000       0.000000   \n25%         0.000000       0.000000       0.000000       0.000000   \n50%         1.000000       0.000000       0.000000       0.000000   \n75%         1.000000       0.000000       0.000000       0.000000   \nmax         1.000000       1.000000       1.000000       1.000000   \n\n        Pneumothorax          Edema      Emphysema       Fibrosis  \\\ncount  112120.000000  112120.000000  112120.000000  112120.000000   \nmean        0.047289       0.020540       0.022440       0.015037   \nstd         0.212256       0.141841       0.148111       0.121702   \nmin         0.000000       0.000000       0.000000       0.000000   \n25%         0.000000       0.000000       0.000000       0.000000   \n50%         0.000000       0.000000       0.000000       0.000000   \n75%         0.000000       0.000000       0.000000       0.000000   \nmax         1.000000       1.000000       1.000000       1.000000   \n\n            Effusion      Pneumonia  Pleural_Thickening   Cardiomegaly  \\\ncount  112120.000000  112120.000000       112120.000000  112120.000000   \nmean        0.118775       0.012763            0.030191       0.024759   \nstd         0.323524       0.112251            0.171113       0.155391   \nmin         0.000000       0.000000            0.000000       0.000000   \n25%         0.000000       0.000000            0.000000       0.000000   \n50%         0.000000       0.000000            0.000000       0.000000   \n75%         0.000000       0.000000            0.000000       0.000000   \nmax         1.000000       1.000000            1.000000       1.000000   \n\n              Nodule           Mass         Hernia  \ncount  112120.000000  112120.000000  112120.000000  \nmean        0.056466       0.051570       0.002025  \nstd         0.230821       0.221158       0.044950  \nmin         0.000000       0.000000       0.000000  \n25%         0.000000       0.000000       0.000000  \n50%         0.000000       0.000000       0.000000  \n75%         0.000000       0.000000       0.000000  \nmax         1.000000       1.000000       1.000000  ",
            "text/html": "<div>\n<style scoped>\n    .dataframe tbody tr th:only-of-type {\n        vertical-align: middle;\n    }\n\n    .dataframe tbody tr th {\n        vertical-align: top;\n    }\n\n    .dataframe thead th {\n        text-align: right;\n    }\n</style>\n<table border=\"1\" class=\"dataframe\">\n  <thead>\n    <tr style=\"text-align: right;\">\n      <th></th>\n      <th>No Finding</th>\n      <th>Atelectasis</th>\n      <th>Consolidation</th>\n      <th>Infiltration</th>\n      <th>Pneumothorax</th>\n      <th>Edema</th>\n      <th>Emphysema</th>\n      <th>Fibrosis</th>\n      <th>Effusion</th>\n      <th>Pneumonia</th>\n      <th>Pleural_Thickening</th>\n      <th>Cardiomegaly</th>\n      <th>Nodule</th>\n      <th>Mass</th>\n      <th>Hernia</th>\n    </tr>\n  </thead>\n  <tbody>\n    <tr>\n      <th>count</th>\n      <td>112120.000000</td>\n      <td>112120.000000</td>\n      <td>112120.000000</td>\n      <td>112120.000000</td>\n      <td>112120.000000</td>\n      <td>112120.000000</td>\n      <td>112120.000000</td>\n      <td>112120.000000</td>\n      <td>112120.000000</td>\n      <td>112120.000000</td>\n      <td>112120.000000</td>\n      <td>112120.000000</td>\n      <td>112120.000000</td>\n      <td>112120.000000</td>\n      <td>112120.000000</td>\n    </tr>\n    <tr>\n      <th>mean</th>\n      <td>0.538361</td>\n      <td>0.103095</td>\n      <td>0.041625</td>\n      <td>0.177435</td>\n      <td>0.047289</td>\n      <td>0.020540</td>\n      <td>0.022440</td>\n      <td>0.015037</td>\n      <td>0.118775</td>\n      <td>0.012763</td>\n      <td>0.030191</td>\n      <td>0.024759</td>\n      <td>0.056466</td>\n      <td>0.051570</td>\n      <td>0.002025</td>\n    </tr>\n    <tr>\n      <th>std</th>\n      <td>0.498529</td>\n      <td>0.304084</td>\n      <td>0.199732</td>\n      <td>0.382038</td>\n      <td>0.212256</td>\n      <td>0.141841</td>\n      <td>0.148111</td>\n      <td>0.121702</td>\n      <td>0.323524</td>\n      <td>0.112251</td>\n      <td>0.171113</td>\n      <td>0.155391</td>\n      <td>0.230821</td>\n      <td>0.221158</td>\n      <td>0.044950</td>\n    </tr>\n    <tr>\n      <th>min</th>\n      <td>0.000000</td>\n      <td>0.000000</td>\n      <td>0.000000</td>\n      <td>0.000000</td>\n      <td>0.000000</td>\n      <td>0.000000</td>\n      <td>0.000000</td>\n      <td>0.000000</td>\n      <td>0.000000</td>\n      <td>0.000000</td>\n      <td>0.000000</td>\n      <td>0.000000</td>\n      <td>0.000000</td>\n      <td>0.000000</td>\n      <td>0.000000</td>\n    </tr>\n    <tr>\n      <th>25%</th>\n      <td>0.000000</td>\n      <td>0.000000</td>\n      <td>0.000000</td>\n      <td>0.000000</td>\n      <td>0.000000</td>\n      <td>0.000000</td>\n      <td>0.000000</td>\n      <td>0.000000</td>\n      <td>0.000000</td>\n      <td>0.000000</td>\n      <td>0.000000</td>\n      <td>0.000000</td>\n      <td>0.000000</td>\n      <td>0.000000</td>\n      <td>0.000000</td>\n    </tr>\n    <tr>\n      <th>50%</th>\n      <td>1.000000</td>\n      <td>0.000000</td>\n      <td>0.000000</td>\n      <td>0.000000</td>\n      <td>0.000000</td>\n      <td>0.000000</td>\n      <td>0.000000</td>\n      <td>0.000000</td>\n      <td>0.000000</td>\n      <td>0.000000</td>\n      <td>0.000000</td>\n      <td>0.000000</td>\n      <td>0.000000</td>\n      <td>0.000000</td>\n      <td>0.000000</td>\n    </tr>\n    <tr>\n      <th>75%</th>\n      <td>1.000000</td>\n      <td>0.000000</td>\n      <td>0.000000</td>\n      <td>0.000000</td>\n      <td>0.000000</td>\n      <td>0.000000</td>\n      <td>0.000000</td>\n      <td>0.000000</td>\n      <td>0.000000</td>\n      <td>0.000000</td>\n      <td>0.000000</td>\n      <td>0.000000</td>\n      <td>0.000000</td>\n      <td>0.000000</td>\n      <td>0.000000</td>\n    </tr>\n    <tr>\n      <th>max</th>\n      <td>1.000000</td>\n      <td>1.000000</td>\n      <td>1.000000</td>\n      <td>1.000000</td>\n      <td>1.000000</td>\n      <td>1.000000</td>\n      <td>1.000000</td>\n      <td>1.000000</td>\n      <td>1.000000</td>\n      <td>1.000000</td>\n      <td>1.000000</td>\n      <td>1.000000</td>\n      <td>1.000000</td>\n      <td>1.000000</td>\n      <td>1.000000</td>\n    </tr>\n  </tbody>\n</table>\n</div>"
          },
          "metadata": {}
        }
      ],
      "execution_count": 9,
      "metadata": {
        "collapsed": true,
        "jupyter": {
          "source_hidden": false,
          "outputs_hidden": false
        },
        "nteract": {
          "transient": {
            "deleting": false
          }
        },
        "gather": {
          "logged": 1617235380451
        }
      }
    },
    {
      "cell_type": "markdown",
      "source": [
        "Checking how many data points of each disease are available:"
      ],
      "metadata": {
        "nteract": {
          "transient": {
            "deleting": false
          }
        }
      }
    },
    {
      "cell_type": "code",
      "source": [
        "data.sum()"
      ],
      "outputs": [
        {
          "output_type": "execute_result",
          "execution_count": 10,
          "data": {
            "text/plain": "Unnamed: 0            ../input/data/images_001/images/00000001_000.p...\nNo Finding                                                        60361\nAtelectasis                                                       11559\nConsolidation                                                      4667\nInfiltration                                                      19894\nPneumothorax                                                       5302\nEdema                                                              2303\nEmphysema                                                          2516\nFibrosis                                                           1686\nEffusion                                                          13317\nPneumonia                                                          1431\nPleural_Thickening                                                 3385\nCardiomegaly                                                       2776\nNodule                                                             6331\nMass                                                               5782\nHernia                                                              227\ndtype: object"
          },
          "metadata": {}
        }
      ],
      "execution_count": 10,
      "metadata": {
        "collapsed": true,
        "jupyter": {
          "source_hidden": false,
          "outputs_hidden": false
        },
        "nteract": {
          "transient": {
            "deleting": false
          }
        },
        "gather": {
          "logged": 1617235407436
        }
      }
    },
    {
      "cell_type": "markdown",
      "source": [
        "Since some of the diseases have very few data points it would be more logical to treat this as a binary classification problem distinguising between a patient having a disease, and a patient having no disease (No Finding)"
      ],
      "metadata": {
        "nteract": {
          "transient": {
            "deleting": false
          }
        }
      }
    }
  ],
  "metadata": {
    "kernelspec": {
      "name": "python3-azureml",
      "language": "python",
      "display_name": "Python 3.6 - AzureML"
    },
    "language_info": {
      "name": "python",
      "version": "3.6.9",
      "mimetype": "text/x-python",
      "codemirror_mode": {
        "name": "ipython",
        "version": 3
      },
      "pygments_lexer": "ipython3",
      "nbconvert_exporter": "python",
      "file_extension": ".py"
    },
    "kernel_info": {
      "name": "python3-azureml"
    },
    "nteract": {
      "version": "nteract-front-end@1.0.0"
    },
    "microsoft": {
      "host": {
        "AzureML": {
          "notebookHasBeenCompleted": true
        }
      }
    }
  },
  "nbformat": 4,
  "nbformat_minor": 2
}